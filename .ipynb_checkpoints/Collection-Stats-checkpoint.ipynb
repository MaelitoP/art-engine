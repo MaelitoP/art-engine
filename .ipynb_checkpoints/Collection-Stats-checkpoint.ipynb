{
 "cells": [
  {
   "cell_type": "code",
   "execution_count": 1,
   "id": "8229767d",
   "metadata": {},
   "outputs": [],
   "source": [
    "import json\n",
    "import pandas as pd\n",
    "import numpy as np"
   ]
  },
  {
   "cell_type": "code",
   "execution_count": 2,
   "id": "9b73300b",
   "metadata": {},
   "outputs": [],
   "source": [
    "# import data\n",
    "with open('build/json/_metadata.json', 'r') as f:\n",
    "  data = pd.DataFrame(json.load(f))"
   ]
  },
  {
   "cell_type": "code",
   "execution_count": 3,
   "id": "9cd7fd8c",
   "metadata": {},
   "outputs": [],
   "source": [
    "# clean / prepare dataset\n",
    "layers = ['Accessories', 'Background', 'Bandanas', 'Beard', 'Cloths', 'Extra', 'EyeCover', 'Eyes', 'Hats',\n",
    "         'InMouth', 'Skeleton', 'Teeth']\n",
    "\n",
    "for var in layers:\n",
    "    data[var] = np.nan\n",
    "    \n",
    "for index, row in data.iterrows():\n",
    "    all_attributes = row.attributes\n",
    "    for attr in all_attributes:\n",
    "        data.loc[index, attr['name']] = attr['value']\n",
    "        "
   ]
  },
  {
   "cell_type": "code",
   "execution_count": 4,
   "id": "9251d035",
   "metadata": {},
   "outputs": [],
   "source": [
    "# Assert Accessories\n",
    "\n",
    "accessories = pd.DataFrame(data['Accessories'].value_counts())\n",
    "# accessories"
   ]
  },
  {
   "cell_type": "code",
   "execution_count": 5,
   "id": "7e8c6385",
   "metadata": {},
   "outputs": [],
   "source": [
    "# Assert Background\n",
    "\n",
    "background = pd.DataFrame(data['Background'].value_counts())\n",
    "# background"
   ]
  },
  {
   "cell_type": "code",
   "execution_count": 6,
   "id": "4b7a0ce2",
   "metadata": {},
   "outputs": [],
   "source": [
    "# Assert Bandanas\n",
    "\n",
    "bandanas = pd.DataFrame(data['Bandanas'].value_counts())\n",
    "# bandanas"
   ]
  },
  {
   "cell_type": "code",
   "execution_count": 7,
   "id": "e46ed783",
   "metadata": {},
   "outputs": [],
   "source": [
    "# Assert Beard\n",
    "\n",
    "beard = pd.DataFrame(data['Beard'].value_counts())\n",
    "# beard"
   ]
  },
  {
   "cell_type": "code",
   "execution_count": 8,
   "id": "3aabc34d",
   "metadata": {},
   "outputs": [],
   "source": [
    "# Assert Beard\n",
    "\n",
    "cloths = pd.DataFrame(data['Cloths'].value_counts())\n",
    "# cloths"
   ]
  },
  {
   "cell_type": "code",
   "execution_count": 9,
   "id": "747ad35f",
   "metadata": {},
   "outputs": [],
   "source": [
    "# Assert Extra\n",
    "\n",
    "extra = pd.DataFrame(data['Extra'].value_counts())\n",
    "# extra"
   ]
  },
  {
   "cell_type": "code",
   "execution_count": 10,
   "id": "06c120b6",
   "metadata": {},
   "outputs": [],
   "source": [
    "# Assert EyeCover\n",
    "\n",
    "eye_cover = pd.DataFrame(data['EyeCover'].value_counts())\n",
    "# eye_cover"
   ]
  },
  {
   "cell_type": "code",
   "execution_count": 11,
   "id": "f42dcf76",
   "metadata": {},
   "outputs": [],
   "source": [
    "# Assert Eyes\n",
    "\n",
    "eyes = pd.DataFrame(data['Eyes'].value_counts())\n",
    "# eyes"
   ]
  },
  {
   "cell_type": "code",
   "execution_count": 12,
   "id": "b91cacaf",
   "metadata": {},
   "outputs": [],
   "source": [
    "# Assert Hats\n",
    "\n",
    "hats = pd.DataFrame(data['Hats'].value_counts())\n",
    "# hats"
   ]
  },
  {
   "cell_type": "code",
   "execution_count": 13,
   "id": "75b9f885",
   "metadata": {},
   "outputs": [],
   "source": [
    "# Assert InMouth\n",
    "\n",
    "in_mouth = pd.DataFrame(data['InMouth'].value_counts())\n",
    "# in_mouth"
   ]
  },
  {
   "cell_type": "code",
   "execution_count": 14,
   "id": "57b1f9e9",
   "metadata": {},
   "outputs": [],
   "source": [
    "# Assert Skeleton\n",
    "\n",
    "skeleton = pd.DataFrame(data['Skeleton'].value_counts())\n",
    "# skeleton"
   ]
  },
  {
   "cell_type": "code",
   "execution_count": 15,
   "id": "bd38d41c",
   "metadata": {},
   "outputs": [],
   "source": [
    "# Assert Teeth\n",
    "\n",
    "teeth = pd.DataFrame(data['Teeth'].value_counts())\n",
    "# teeth"
   ]
  },
  {
   "cell_type": "code",
   "execution_count": null,
   "id": "294281b1",
   "metadata": {},
   "outputs": [],
   "source": []
  },
  {
   "cell_type": "code",
   "execution_count": null,
   "id": "4bd8cab3",
   "metadata": {},
   "outputs": [],
   "source": []
  },
  {
   "cell_type": "code",
   "execution_count": null,
   "id": "13374fa8",
   "metadata": {},
   "outputs": [],
   "source": []
  }
 ],
 "metadata": {
  "kernelspec": {
   "display_name": "Python 3",
   "language": "python",
   "name": "python3"
  },
  "language_info": {
   "codemirror_mode": {
    "name": "ipython",
    "version": 3
   },
   "file_extension": ".py",
   "mimetype": "text/x-python",
   "name": "python",
   "nbconvert_exporter": "python",
   "pygments_lexer": "ipython3",
   "version": "3.8.8"
  }
 },
 "nbformat": 4,
 "nbformat_minor": 5
}
